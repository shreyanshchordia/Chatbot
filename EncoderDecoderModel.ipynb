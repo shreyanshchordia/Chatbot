{
  "nbformat": 4,
  "nbformat_minor": 0,
  "metadata": {
    "colab": {
      "name": "EncoderDecoderModel",
      "provenance": [],
      "collapsed_sections": []
    },
    "kernelspec": {
      "name": "python3",
      "display_name": "Python 3"
    },
    "accelerator": "GPU"
  },
  "cells": [
    {
      "cell_type": "markdown",
      "metadata": {
        "id": "oj1j1imcd4qo",
        "colab_type": "text"
      },
      "source": [
        "# Importing Libraries and Modules"
      ]
    },
    {
      "cell_type": "code",
      "metadata": {
        "id": "h2nhdlt2641D",
        "colab_type": "code",
        "colab": {}
      },
      "source": [
        "import pickle\n",
        "import random\n",
        "import numpy as np\n",
        "import re\n",
        "import keras\n",
        "import random\n",
        "from keras.preprocessing.sequence import pad_sequences\n",
        "from keras.utils import plot_model\n",
        "from keras.models import model_from_json\n",
        "import tensorflow as tf\n",
        "from keras.models import Model\n",
        "from keras.layers import Input, LSTM, Dense, Bidirectional, TimeDistributed, Embedding, Average\n",
        "from keras import regularizers, optimizers"
      ],
      "execution_count": 142,
      "outputs": []
    },
    {
      "cell_type": "markdown",
      "metadata": {
        "id": "k1nXXEV5d-gX",
        "colab_type": "text"
      },
      "source": [
        "# Loading partly processed data"
      ]
    },
    {
      "cell_type": "markdown",
      "metadata": {
        "id": "p8qp_a9deD0z",
        "colab_type": "text"
      },
      "source": [
        "Refer DataPreperation.ipynb"
      ]
    },
    {
      "cell_type": "code",
      "metadata": {
        "id": "PVIC1uy76aps",
        "colab_type": "code",
        "colab": {}
      },
      "source": [
        "# Loading the prepared data from drive\n",
        "\n",
        "# Data preparation is done in my Notebook DataPreparation.ipynb\n",
        "\n",
        "# You can generate the output from DataPreparation.ipynb\n",
        "# Can ignore data augmentation \n",
        "file = open('/content/drive/My Drive/Colab Notebooks/Chatbot/data.pkl', 'rb')\n",
        "\n",
        "data_dictionary = pickle.load(file)\n",
        "\n",
        "file.close()"
      ],
      "execution_count": 5,
      "outputs": []
    },
    {
      "cell_type": "code",
      "metadata": {
        "id": "jRVxmw6S7aA-",
        "colab_type": "code",
        "colab": {}
      },
      "source": [
        "data_dictionary.keys()"
      ],
      "execution_count": null,
      "outputs": []
    },
    {
      "cell_type": "code",
      "metadata": {
        "id": "CR9QYS8HCUdx",
        "colab_type": "code",
        "colab": {}
      },
      "source": [
        "dataset = data_dictionary['data']"
      ],
      "execution_count": 7,
      "outputs": []
    },
    {
      "cell_type": "markdown",
      "metadata": {
        "id": "RSkBQz-5eTvJ",
        "colab_type": "text"
      },
      "source": [
        "# Making the Vocabulary Class"
      ]
    },
    {
      "cell_type": "code",
      "metadata": {
        "id": "meAVzPv1--2N",
        "colab_type": "code",
        "colab": {}
      },
      "source": [
        "# Vocabulary Class\n",
        "\n",
        "class Vocabulary:\n",
        "    def __init__(self):\n",
        "        self.__voc_dict = {\n",
        "            '<eos>': 0,\n",
        "            '<oov>': 0,\n",
        "            '<pad>': 0,\n",
        "            '<sos>': 0\n",
        "        }\n",
        "\n",
        "        self.Vocab = set(['<eos>', '<oov>', '<pad>', '<sos>'])\n",
        "\n",
        "        self.__trimmed_vocab = None\n",
        "\n",
        "        self.word2idx = None\n",
        "\n",
        "        self.idx2word = None\n",
        "    \n",
        "\n",
        "    def __addWord(self, word):\n",
        "\n",
        "        if word in self.Vocab:\n",
        "            self.__voc_dict[word] += 1\n",
        "        \n",
        "        else:\n",
        "            self.Vocab.add(word)\n",
        "            self.__voc_dict[word] = 1\n",
        "        \n",
        "        return\n",
        "\n",
        "\n",
        "    def addSentence(self, sentence):\n",
        "\n",
        "        for word in sentence:\n",
        "            self.__addWord(word.lower())\n",
        "\n",
        "        return \n",
        "\n",
        "\n",
        "    def minCountTrim(self, min_count):\n",
        "        \n",
        "        temp = set(['<eos>', '<oov>', '<pad>', '<sos>'])\n",
        "\n",
        "        for word in self.__voc_dict.keys():\n",
        "\n",
        "            if self.__voc_dict[word] >= min_count:\n",
        "                temp.add(word)\n",
        "            \n",
        "            else:\n",
        "                continue\n",
        "        \n",
        "        self.__trimmed_vocab = list(temp)\n",
        "\n",
        "        return list(temp)\n",
        "\n",
        "\n",
        "    def wordCountTrim(self, num_words):\n",
        "        \n",
        "        temp = set(['<eos>', '<oov>', '<pad>', '<sos>'])\n",
        "\n",
        "        if num_words <= 4:\n",
        "            return temp\n",
        "\n",
        "        sorted_vocab = [k for k,v in sorted(self.__voc_dict.items(),\n",
        "                                       key=lambda x: x[1],\n",
        "                                       reverse=True)]\n",
        "        for word in sorted_vocab:\n",
        "            if len(temp) == num_words:\n",
        "                break\n",
        "            temp.add(word)\n",
        "        \n",
        "        self.__trimmed_vocab = list(temp)\n",
        "        \n",
        "        return list(temp) \n",
        "\n",
        "\n",
        "    def sentence2Sequence(self, sentence):\n",
        "        \n",
        "        if self.word2idx is None:\n",
        "            self.getVocabMapper()\n",
        "        \n",
        "        sequence = []\n",
        "        for word in sentence:\n",
        "            sequence.append(word2idx.get(word.lower(), word2idx['<oov>']))\n",
        "        \n",
        "        return sequence\n",
        "\n",
        "\n",
        "    def sequence2Sentence(self, sequence):\n",
        "        \n",
        "        if self.idx2word is None:\n",
        "            self.getVocabMapper()\n",
        "        \n",
        "        sentence = []\n",
        "        for i in sequence:\n",
        "            sentence.append(self.idx2word[i])\n",
        "        \n",
        "        return sentence\n",
        "\n",
        "\n",
        "    def getTrimmedVocab(self):\n",
        "\n",
        "        if self.__trimmed_vocab is not None:\n",
        "            return self.__trimmed_vocab\n",
        "        else:\n",
        "            return None\n",
        "\n",
        "\n",
        "    def getVocabMapper(self):\n",
        "\n",
        "        vocab = None\n",
        "        self.word2idx = {\n",
        "            '<pad>': 0,\n",
        "            '<oov>': 1,\n",
        "            '<sos>': 2,\n",
        "            '<eos>': 3\n",
        "            }\n",
        "        self.idx2word = {\n",
        "            0: '<pad>',\n",
        "            1: '<oov>',\n",
        "            2: '<sos>',\n",
        "            3: '<eos>'\n",
        "        }\n",
        "        \n",
        "        if self.__trimmed_vocab is None:\n",
        "            vocab = self.Vocab\n",
        "        \n",
        "        else:\n",
        "            vocab = self.__trimmed_vocab\n",
        "        \n",
        "        i = 0\n",
        "        for word in sorted(vocab):\n",
        "            if word not in ('<pad>', '<oov>', '<eos>', '<sos>'):\n",
        "                self.word2idx[word] = i + 4\n",
        "                self.idx2word[i + 4] = word\n",
        "                i += 1\n",
        "        \n",
        "        return self.word2idx, self.idx2word\n",
        "\n",
        "\n",
        "    def getCountDictionary(self):\n",
        "        \n",
        "        return self.__voc_dict"
      ],
      "execution_count": 8,
      "outputs": []
    },
    {
      "cell_type": "markdown",
      "metadata": {
        "id": "CdkjCKfEedYF",
        "colab_type": "text"
      },
      "source": [
        "# Analyzing the lengths of sentences in Dataset"
      ]
    },
    {
      "cell_type": "code",
      "metadata": {
        "id": "5qwPInw-QpZL",
        "colab_type": "code",
        "colab": {}
      },
      "source": [
        "# finding max length of sequence in dataset\n",
        "\n",
        "def get_sequence_length_diary(dataset):\n",
        "\n",
        "    sequence_length_diary = {}\n",
        "    max_length = 0\n",
        "\n",
        "    # dataset is from tokenized lists\n",
        "    for pair in dataset: \n",
        "        for sentence in pair:\n",
        "            length = len(sentence)\n",
        "            if (length > max_length):\n",
        "                max_length = length\n",
        "            \n",
        "            sequence_length_diary[length] = sequence_length_diary.get(length, 0) + 1\n",
        "    \n",
        "    return (sequence_length_diary, max_length)"
      ],
      "execution_count": 9,
      "outputs": []
    },
    {
      "cell_type": "code",
      "metadata": {
        "id": "p3x7I-PrUSnm",
        "colab_type": "code",
        "colab": {
          "base_uri": "https://localhost:8080/",
          "height": 34
        },
        "outputId": "5b71cb97-c87f-4f74-8a77-93cee4e65361"
      },
      "source": [
        "# to get description of the lengths of different sequences in the dataset\n",
        "\n",
        "sequence_length_diary, max_length = get_sequence_length_diary(dataset)\n",
        "\n",
        "print(f'The longest sequence in the dataset has {max_length} words')"
      ],
      "execution_count": 10,
      "outputs": [
        {
          "output_type": "stream",
          "text": [
            "The longest sequence in the dataset has 69 words\n"
          ],
          "name": "stdout"
        }
      ]
    },
    {
      "cell_type": "code",
      "metadata": {
        "id": "ekgdJKvFTHwW",
        "colab_type": "code",
        "colab": {
          "base_uri": "https://localhost:8080/",
          "height": 279
        },
        "outputId": "c092d8d9-7d9c-42cd-f58a-ebed68d72ecc"
      },
      "source": [
        "import matplotlib.pyplot as plt\n",
        "\n",
        "sequence_length_diary = [(k,v) for k,v in sorted(sequence_length_diary.items(), key=lambda x: x[0])]\n",
        "\n",
        "plt.plot([item[0] for item in sequence_length_diary], [item[1] for item in sequence_length_diary])\n",
        "plt.xlabel('Length of Sequence')\n",
        "plt.ylabel('Count of Sequences')\n",
        "plt.show()"
      ],
      "execution_count": 11,
      "outputs": [
        {
          "output_type": "display_data",
          "data": {
            "image/png": "[encoded data removed]",
            "text/plain": [
              "<Figure size 432x288 with 1 Axes>"
            ]
          },
          "metadata": {
            "tags": [],
            "needs_background": "light"
          }
        }
      ]
    },
    {
      "cell_type": "markdown",
      "metadata": {
        "id": "jD8DU2Vaei3j",
        "colab_type": "text"
      },
      "source": [
        "# Setting data related configuration"
      ]
    },
    {
      "cell_type": "code",
      "metadata": {
        "id": "V3t3VGzDPQ6N",
        "colab_type": "code",
        "colab": {}
      },
      "source": [
        "OOV = '<oov>'\n",
        "EOS = '<eos>'\n",
        "SOS = '<sos>'\n",
        "PAD = '<pad>'\n",
        "\n",
        "# hyperparamters\n",
        "\n",
        "VOCAB_SIZE = 2000   # min count of occurance to be in vocabulary\n",
        "MAX_LENGTH = 30  # max length of sequence in model\n",
        "EMB_SIZE = 100 # for vector size of words\n",
        "HIDDEN_DIM = 256 # For LSTM model"
      ],
      "execution_count": 12,
      "outputs": []
    },
    {
      "cell_type": "markdown",
      "metadata": {
        "id": "_RffuPIMend7",
        "colab_type": "text"
      },
      "source": [
        "# Adding `<SOS>` and `<EOS>` to sentences in dataset"
      ]
    },
    {
      "cell_type": "code",
      "metadata": {
        "id": "XRe7HUjRAdfv",
        "colab_type": "code",
        "colab": {}
      },
      "source": [
        "# function to add SOS tag and EOS tag to a sentence\n",
        "\n",
        "def add_tags(tokenized_sentence):\n",
        "\n",
        "    x = tokenized_sentence.copy()\n",
        "    x.insert(0, SOS)\n",
        "    x.append(EOS)\n",
        "\n",
        "    return x"
      ],
      "execution_count": 13,
      "outputs": []
    },
    {
      "cell_type": "code",
      "metadata": {
        "id": "4ZE_J8w5BXuz",
        "colab_type": "code",
        "colab": {}
      },
      "source": [
        "# function to tag entire dataset\n",
        "\n",
        "def tag_dataset(dataset):\n",
        "\n",
        "    tagged_dataset = []\n",
        "\n",
        "    for pair in dataset:\n",
        "        temp = []\n",
        "        for sentence in pair:\n",
        "            temp.append(add_tags(sentence))\n",
        "\n",
        "        tagged_dataset.append(temp)\n",
        "    \n",
        "    return tagged_dataset"
      ],
      "execution_count": 14,
      "outputs": []
    },
    {
      "cell_type": "code",
      "metadata": {
        "id": "5067b7pyB8-R",
        "colab_type": "code",
        "colab": {}
      },
      "source": [
        "# tagging dataset\n",
        "\n",
        "tagged_dataset = tag_dataset(dataset)\n",
        "\n",
        "random.choice(tagged_dataset)"
      ],
      "execution_count": null,
      "outputs": []
    },
    {
      "cell_type": "code",
      "metadata": {
        "id": "9YeaRHq9DjWE",
        "colab_type": "code",
        "colab": {}
      },
      "source": [
        "# Now trimming the dataset on the basis of MAX_LENGTH\n",
        "\n",
        "'''\n",
        "Now the dataset will get trimmed to contain only those sentences that have a \n",
        "size less than or equal to MAX_LENGTH size\n",
        "'''\n",
        "\n",
        "# Function to trim the dataset\n",
        "\n",
        "def trim_dataset(dataset, MAX_LENGTH):\n",
        "\n",
        "    new_dataset = []\n",
        "\n",
        "    for question, answer in dataset:\n",
        "        if len(question) <= MAX_LENGTH and len(answer) <= MAX_LENGTH:\n",
        "            new_dataset.append([question, answer])\n",
        "        else: continue\n",
        "    \n",
        "    return new_dataset"
      ],
      "execution_count": 16,
      "outputs": []
    },
    {
      "cell_type": "code",
      "metadata": {
        "id": "6Mv-_94eGo_j",
        "colab_type": "code",
        "colab": {
          "base_uri": "https://localhost:8080/",
          "height": 34
        },
        "outputId": "2d735412-5d3a-4a5d-b1f5-776e94b323cd"
      },
      "source": [
        "'''\n",
        "We trim the tagged dataset, because during training SOS and EOS will also\n",
        "be considered in the sequence length\n",
        "'''\n",
        "\n",
        "trimmed_dataset = trim_dataset(tagged_dataset, MAX_LENGTH)\n",
        "\n",
        "print(f'Out of {len(tagged_dataset)} pairs, only {len(trimmed_dataset)} pairs '\n",
        "      f'have question and answers of size less than or equal to {MAX_LENGTH}.')"
      ],
      "execution_count": 17,
      "outputs": [
        {
          "output_type": "stream",
          "text": [
            "Out of 1364 pairs, only 1329 pairs have question and answers of size less than or equal to 30.\n"
          ],
          "name": "stdout"
        }
      ]
    },
    {
      "cell_type": "markdown",
      "metadata": {
        "id": "n1LShmupfL0P",
        "colab_type": "text"
      },
      "source": [
        "# Building Vocabulary"
      ]
    },
    {
      "cell_type": "code",
      "metadata": {
        "id": "-GZdVTfVOEks",
        "colab_type": "code",
        "colab": {
          "base_uri": "https://localhost:8080/",
          "height": 34
        },
        "outputId": "daa4bc36-8af4-40a8-fa02-76fc38812f1e"
      },
      "source": [
        "# function to build vocabulary\n",
        "\n",
        "def build_vocabulary(dataset):\n",
        "\n",
        "    vocab = Vocabulary()\n",
        "    for pair in dataset:\n",
        "        for sentence in pair:\n",
        "            vocab.addSentence(sentence)\n",
        "    \n",
        "    return vocab\n",
        "\n",
        "vocab = build_vocabulary(trimmed_dataset)\n",
        "\n",
        "print(f'Total number of unique words in the trimmed dataset is: {len(vocab.Vocab)}')"
      ],
      "execution_count": 18,
      "outputs": [
        {
          "output_type": "stream",
          "text": [
            "Total number of unique words in the trimmed dataset is: 2177\n"
          ],
          "name": "stdout"
        }
      ]
    },
    {
      "cell_type": "code",
      "metadata": {
        "id": "W3GV7AlDHm3L",
        "colab_type": "code",
        "colab": {
          "base_uri": "https://localhost:8080/",
          "height": 34
        },
        "outputId": "a949ec28-32ae-4e25-eb2b-96c5ab097469"
      },
      "source": [
        "# trimming the vocabulary\n",
        "\n",
        "# the size of the vocabulary is determined by VOCAB_SIZE\n",
        "\n",
        "'''\n",
        "1. Trim the vocabulary\n",
        "2. Get word-to-id dictionary and id-to-word dictionary\n",
        "'''\n",
        "vocabulary = vocab.wordCountTrim(VOCAB_SIZE)\n",
        "\n",
        "word2idx, idx2word = vocab.getVocabMapper()\n",
        "\n",
        "print(f'New vocabulary size: {len(vocabulary)}')"
      ],
      "execution_count": 19,
      "outputs": [
        {
          "output_type": "stream",
          "text": [
            "New vocabulary size: 2000\n"
          ],
          "name": "stdout"
        }
      ]
    },
    {
      "cell_type": "markdown",
      "metadata": {
        "id": "9K9lT6HefPHt",
        "colab_type": "text"
      },
      "source": [
        "# Spliting Dataset Conversations into X and Y"
      ]
    },
    {
      "cell_type": "code",
      "metadata": {
        "id": "n20rAkxTWX7A",
        "colab_type": "code",
        "colab": {}
      },
      "source": [
        "'''\n",
        "function to seperate the question and answers from \n",
        "the dataset for training of the model\n",
        "'''\n",
        "\n",
        "def get_encoding_decoding(dataset):\n",
        "    X = []\n",
        "    Y = []\n",
        "    for encoding, decoding in dataset:\n",
        "        X.append(encoding)\n",
        "        Y.append(decoding)\n",
        "    \n",
        "    return X, Y\n",
        "    "
      ],
      "execution_count": 20,
      "outputs": []
    },
    {
      "cell_type": "code",
      "metadata": {
        "id": "QN5LbJDMXRnz",
        "colab_type": "code",
        "colab": {}
      },
      "source": [
        "'''\n",
        "X has questions whereas Y has corresponding answers\n",
        "For model training, this way of viewing the data makes things \n",
        "simpler and more conventional.\n",
        "\n",
        "Now we have to build a function that simply maps X -> Y, or for a \n",
        "layman a function that maps QUESTION to the correct (or sensible)\n",
        "ANSWER.\n",
        "'''\n",
        "\n",
        "X, Y = get_encoding_decoding(trimmed_dataset)"
      ],
      "execution_count": 21,
      "outputs": []
    },
    {
      "cell_type": "code",
      "metadata": {
        "id": "FFxC9OAuaLs7",
        "colab_type": "code",
        "colab": {
          "base_uri": "https://localhost:8080/",
          "height": 105
        },
        "outputId": "1593bde5-0a5c-4b69-dccd-c3ed9b86bbfd"
      },
      "source": [
        "num = random.randint(0, len(X))\n",
        "\n",
        "print(f'A sample from X and Y for a random index, say {num}:\\n')\n",
        "print(X[num], Y[num], sep='\\n')"
      ],
      "execution_count": 22,
      "outputs": [
        {
          "output_type": "stream",
          "text": [
            "A sample from X and Y for a random index, say 12:\n",
            "\n",
            "['<sos>', 'You', 'sound', 'like', 'Data', '<eos>']\n",
            "['<sos>', 'The', 'character', 'of', 'Lt', '.', 'Commander', 'Data', 'was', 'written', 'to', 'come', 'across', 'as', 'being', 'software', 'like', 'so', 'it', 'is', 'natural', 'that', 'there', 'is', 'a', 'resemblance', 'between', 'us', '.', '<eos>']\n"
          ],
          "name": "stdout"
        }
      ]
    },
    {
      "cell_type": "markdown",
      "metadata": {
        "id": "SLp1T9VbfZ7u",
        "colab_type": "text"
      },
      "source": [
        "# Padding the Dataset"
      ]
    },
    {
      "cell_type": "code",
      "metadata": {
        "id": "6uhqQjOCIPEN",
        "colab_type": "code",
        "colab": {
          "base_uri": "https://localhost:8080/",
          "height": 272
        },
        "outputId": "213267c3-7e9a-490b-fe81-0f89bf000272"
      },
      "source": [
        "'''\n",
        "Padding the conversations of the dataset\n",
        "using pad_sequences from tf.keras.preprocessing.sequence\n",
        "'''\n",
        "\n",
        "X = pad_sequences(X, maxlen=MAX_LENGTH, dtype=object, padding='post', value=PAD, truncating='post')\n",
        "Y = pad_sequences(Y, maxlen=MAX_LENGTH, dtype=object, padding='post', value=PAD, truncating='post')\n",
        "\n",
        "num = random.randint(0, len(X))\n",
        "\n",
        "print(f'A sample from X and Y for a random index after PADDING!\\n')\n",
        "print(f'Question:\\n\\n{X[num]}\\n\\nAnswer:\\n\\n{Y[num]}')"
      ],
      "execution_count": 23,
      "outputs": [
        {
          "output_type": "stream",
          "text": [
            "A sample from X and Y for a random index after PADDING!\n",
            "\n",
            "Question:\n",
            "\n",
            "['<sos>' 'I' 'PLAY' 'VOLLEYBALL' '<eos>' '<pad>' '<pad>' '<pad>' '<pad>'\n",
            " '<pad>' '<pad>' '<pad>' '<pad>' '<pad>' '<pad>' '<pad>' '<pad>' '<pad>'\n",
            " '<pad>' '<pad>' '<pad>' '<pad>' '<pad>' '<pad>' '<pad>' '<pad>' '<pad>'\n",
            " '<pad>' '<pad>' '<pad>']\n",
            "\n",
            "Answer:\n",
            "\n",
            "['<sos>' 'Does' 'take' 'up' 'a' 'lot' 'of' 'your' 'time' '?' '<eos>'\n",
            " '<pad>' '<pad>' '<pad>' '<pad>' '<pad>' '<pad>' '<pad>' '<pad>' '<pad>'\n",
            " '<pad>' '<pad>' '<pad>' '<pad>' '<pad>' '<pad>' '<pad>' '<pad>' '<pad>'\n",
            " '<pad>']\n"
          ],
          "name": "stdout"
        }
      ]
    },
    {
      "cell_type": "markdown",
      "metadata": {
        "id": "8c_o33I0flNQ",
        "colab_type": "text"
      },
      "source": [
        "# Sentence-to-Sequence"
      ]
    },
    {
      "cell_type": "code",
      "metadata": {
        "id": "WWxjoCs7Rfd3",
        "colab_type": "code",
        "colab": {
          "base_uri": "https://localhost:8080/",
          "height": 68
        },
        "outputId": "f629739b-7be1-4a97-f05d-9fac3f5622c4"
      },
      "source": [
        "# Converting tokenized sentences to sequences\n",
        "\n",
        "sequence = vocab.sentence2Sequence(['<sos>', 'he', 'is', 'a', 'good', 'man', '<eos>', '<pad>'])\n",
        "\n",
        "print(f\"Sentence2Sequence function example:\\n\\n['<sos>', 'he', 'is', 'a', 'good', 'man', '<eos>', '<pad>'] -> {sequence}\")"
      ],
      "execution_count": 24,
      "outputs": [
        {
          "output_type": "stream",
          "text": [
            "Sentence2Sequence function example:\n",
            "\n",
            "['<sos>', 'he', 'is', 'a', 'good', 'man', '<eos>', '<pad>'] -> [2, 809, 936, 13, 752, 1071, 3, 0]\n"
          ],
          "name": "stdout"
        }
      ]
    },
    {
      "cell_type": "code",
      "metadata": {
        "id": "D3B9JZ3nkdFJ",
        "colab_type": "code",
        "colab": {}
      },
      "source": [
        "# function to convert a list of tokenized sentences into sequences\n",
        "\n",
        "def get_sequences(data, function):\n",
        "\n",
        "    sequences = []\n",
        "    for sentence in data:\n",
        "        sequences.append(function(sentence))\n",
        "\n",
        "    return sequences \n"
      ],
      "execution_count": 25,
      "outputs": []
    },
    {
      "cell_type": "code",
      "metadata": {
        "id": "15JGQnjjpnTs",
        "colab_type": "code",
        "colab": {}
      },
      "source": [
        "'''\n",
        "Converting our data X and Y into number sequences,\n",
        "for model to understand. Model doesn't understand linguistics\n",
        "hence input has to be given in form of a number.\n",
        "'''\n",
        "\n",
        "X_sequences = get_sequences(X, vocab.sentence2Sequence)\n",
        "Y_sequences = get_sequences(Y, vocab.sentence2Sequence)"
      ],
      "execution_count": 26,
      "outputs": []
    },
    {
      "cell_type": "code",
      "metadata": {
        "id": "g9cdS4E-rDOk",
        "colab_type": "code",
        "colab": {
          "base_uri": "https://localhost:8080/",
          "height": 102
        },
        "outputId": "2d8ea3c7-63df-4127-9d7a-e2258fddee80"
      },
      "source": [
        "num = random.randint(0, len(X))\n",
        "\n",
        "print(f'A sample from X_sequences and Y_sequences for a random index, '\n",
        "      f'say {num}:\\n')\n",
        "print(X_sequences[num], Y_sequences[num], sep='\\n\\n')"
      ],
      "execution_count": 27,
      "outputs": [
        {
          "output_type": "stream",
          "text": [
            "A sample from X_sequences and Y_sequences for a random index, say 251:\n",
            "\n",
            "[2, 1753, 1091, 13, 959, 3, 0, 0, 0, 0, 0, 0, 0, 0, 0, 0, 0, 0, 0, 0, 0, 0, 0, 0, 0, 0, 0, 0, 0, 0]\n",
            "\n",
            "[2, 1933, 505, 1994, 733, 1934, 1994, 421, 13, 1571, 1777, 80, 13, 1062, 1995, 1071, 11, 3, 0, 0, 0, 0, 0, 0, 0, 0, 0, 0, 0, 0]\n"
          ],
          "name": "stdout"
        }
      ]
    },
    {
      "cell_type": "markdown",
      "metadata": {
        "id": "RSieOlerdpuF",
        "colab_type": "text"
      },
      "source": [
        "# Generating Embedding Matrix"
      ]
    },
    {
      "cell_type": "code",
      "metadata": {
        "id": "brGD7U1ixwaf",
        "colab_type": "code",
        "colab": {}
      },
      "source": [
        "'''\n",
        "Now we need embeddings for the words. This is known as transfer learning,\n",
        "where instead of making the model learn every bit from scratch, we make use of\n",
        "the open source community and either use pre-trained models or use results of \n",
        "these really huge models that are trained in a generalized manner on extremely \n",
        "large datasets. \n",
        "By tranfer learning we not only save time but also get good \n",
        "results by far less training because of the pre-trained models (like BERT,\n",
        "ALEX NET, YOLO etc) or their generalised state-of-the-art results\n",
        "(like word-embeddings).\n",
        "'''\n",
        "\n",
        "\n",
        "# Adding my script to simplify the process of creating embeddings\n",
        "\n",
        "!git clone https://github.com/shreyanshchordia/WordEmbedder.git\n",
        "\n",
        "# downloading dependencies\n",
        "# -- gluonnlp -- mxnet -- numpy\n",
        "\n",
        "!pip install -r /content/WordEmbedder/requirements.txt\n",
        "\n",
        "# Importing utilities from WordEmbedder.py\n",
        "\n",
        "from WordEmbedder.WordEmbedder import Embedder"
      ],
      "execution_count": null,
      "outputs": []
    },
    {
      "cell_type": "code",
      "metadata": {
        "id": "mImO4-N80K5d",
        "colab_type": "code",
        "colab": {}
      },
      "source": [
        "emb = Embedder(dimensions= EMB_SIZE)\n",
        "\n",
        "embedder = emb.get_embedder()"
      ],
      "execution_count": 31,
      "outputs": []
    },
    {
      "cell_type": "code",
      "metadata": {
        "id": "BgeRQSMh0u1b",
        "colab_type": "code",
        "colab": {}
      },
      "source": [
        "'''\n",
        "function to get embedding matrix from the words\n",
        "'''\n",
        "\n",
        "def get_embedding_matrix(word2idx, embedder):\n",
        "\n",
        "    embedding_matrix = []\n",
        "\n",
        "    for word in word2idx.keys():\n",
        "        \n",
        "        embedding_matrix.append(embedder[word.lower()].asnumpy())\n",
        "    \n",
        "    return np.asarray(embedding_matrix)\n"
      ],
      "execution_count": 32,
      "outputs": []
    },
    {
      "cell_type": "code",
      "metadata": {
        "id": "CFDPbroZ51RM",
        "colab_type": "code",
        "colab": {}
      },
      "source": [
        "'''\n",
        "word2idx is the dictionary that maps words to the respective ids\n",
        "embedder maps words to their embeddings\n",
        "'''\n",
        "\n",
        "embedding_matrix = get_embedding_matrix(word2idx, embedder)"
      ],
      "execution_count": 33,
      "outputs": []
    },
    {
      "cell_type": "markdown",
      "metadata": {
        "id": "4QHVCviWdeAQ",
        "colab_type": "text"
      },
      "source": [
        "# Building Inputs and Outputs for training Model"
      ]
    },
    {
      "cell_type": "code",
      "metadata": {
        "id": "R3qSACvHarxR",
        "colab_type": "code",
        "colab": {}
      },
      "source": [
        "'''\n",
        "For training the model, we will be requiring\n",
        "1. encoder_input - Which will actually be the input\n",
        "2. decoder_input - Required to guide our training\n",
        "3. decoder_target - The actual output that is generated\n",
        "eg.\n",
        "<sos>, How, are, you, <eos> --> I, am, great, <eos>\n",
        "\n",
        "But how to teach the model to do so. \n",
        "For this we first need to understand how the Sequence Model\n",
        "works here.\n",
        "\n",
        "Once the encodings are generated, using these encodings the decoder\n",
        "has to start generating the output from left to right. \n",
        "\n",
        "The decoder uses the encodings and the beginning of the output that has to be\n",
        "generated, which is <sos>.\n",
        "\n",
        "So using the encodings (generated from encoder input), and <sos> the decoder \n",
        "generates the first word of the output.\n",
        "For the next word in the output sequence that is generated, the decoder uses\n",
        "one of the inputs as previous words. \n",
        "\n",
        "But during the training we know the what must be the next word, no matter what \n",
        "our model would predict.\n",
        "\n",
        "So we use teacher forcing algorithm..\n",
        "In this algorithm, for every next word to be generated we ourselves feed the \n",
        "correct previous word(decoder input) to the model at each point, irrespective \n",
        "of what the model might have predicted previously (decoder target). This method \n",
        "has proven to help train models, even faster.\n",
        "'''\n",
        "encoder_input = np.asarray(X_sequences)\n",
        "decoder_input = np.asarray(Y_sequences)\n",
        "target = []\n",
        "for temp in Y_sequences:\n",
        "    t = [i for i in temp] + [0]\n",
        "    target.append(t)\n",
        "\n",
        "decoder_target = np.asarray(target)[:,1:].reshape(-1, MAX_LENGTH ,1) "
      ],
      "execution_count": 34,
      "outputs": []
    },
    {
      "cell_type": "code",
      "metadata": {
        "id": "oqYwMdqJFN71",
        "colab_type": "code",
        "colab": {
          "base_uri": "https://localhost:8080/",
          "height": 34
        },
        "outputId": "9a001092-e628-4c83-acd7-659b55f892d2"
      },
      "source": [
        "print(encoder_input.shape, decoder_input.shape, decoder_target.shape)"
      ],
      "execution_count": 35,
      "outputs": [
        {
          "output_type": "stream",
          "text": [
            "(1329, 30) (1329, 30) (1329, 30, 1)\n"
          ],
          "name": "stdout"
        }
      ]
    },
    {
      "cell_type": "code",
      "metadata": {
        "id": "SU9Isz3QrfTm",
        "colab_type": "code",
        "colab": {}
      },
      "source": [
        "'''\n",
        "Our data is now ready for training on an \n",
        "ENCODER - DECODER model\n",
        "'''"
      ],
      "execution_count": 73,
      "outputs": []
    },
    {
      "cell_type": "markdown",
      "metadata": {
        "id": "Y4qbOVD5cm0Q",
        "colab_type": "text"
      },
      "source": [
        "# Training"
      ]
    },
    {
      "cell_type": "markdown",
      "metadata": {
        "id": "Ere2vDsvcitQ",
        "colab_type": "text"
      },
      "source": [
        "## Train Model Architecture"
      ]
    },
    {
      "cell_type": "code",
      "metadata": {
        "id": "Kpl84OGLaXRL",
        "colab_type": "code",
        "colab": {}
      },
      "source": [
        "'''\n",
        "ENCODER:\n",
        "    Input -> Embedding -> BiDirectional LSTM 1 -> Bidirectional LSTM 2\n",
        "\n",
        "DECODER:\n",
        "    Input -> Embedding -> LSTM 1 (Uses Encoder BiDirectional LSTM 1 output states) \n",
        "    -> LSTM 2 (Uses Encoder BiDirectional LSTM 2 output states) -> \n",
        "    TimeDistributed ReLu -> TimeDistributed Softmax (Predicts the output\n",
        "    at each point in the sequence from the vocabulary)\n",
        "'''\n",
        "\n",
        "encoder_inputs = Input(name='encoder_input', shape=(MAX_LENGTH,))\n",
        "embedding_layer = Embedding(input_dim=VOCAB_SIZE,\n",
        "                              output_dim=EMB_SIZE,\n",
        "                              weights=[embedding_matrix],\n",
        "                              trainable=False,\n",
        "                              input_length=MAX_LENGTH)\n",
        "\n",
        "encoder_embedding = embedding_layer(encoder_inputs)\n",
        "\n",
        "encoder1 = Bidirectional(LSTM(units=HIDDEN_DIM,\n",
        "                              return_sequences=True,\n",
        "                              return_state=True,\n",
        "                              name='lstm1'),\n",
        "                         merge_mode='ave',\n",
        "                         name='encoder_bi')\n",
        "encoder_output1, forward_h1, forward_c1, backward_h1, backward_c1 = encoder1(encoder_embedding)\n",
        "state_h1 = Average(name='hidden_state_average1')([forward_h1, backward_h1])\n",
        "state_c1 = Average(name='cell_state_average1')([forward_c1, backward_c1])\n",
        "encoder1_states = [state_h1, state_c1]\n",
        "\n",
        "encoder2 = Bidirectional(LSTM(units=HIDDEN_DIM,\n",
        "                              return_state=True,\n",
        "                              name='lstm2'),\n",
        "                         merge_mode='ave',\n",
        "                         name='encoder_bi_')\n",
        "\n",
        "encoder_output2, forward_h2, forward_c2, backward_h2, backward_c2 = encoder2(encoder_output1)\n",
        "state_h2 = Average(name='hidden_state_average2')([forward_h2, backward_h2])\n",
        "state_c2 = Average(name='cell_state_average2')([forward_c2, backward_c2])\n",
        "encoder2_states = [state_h2, state_c2]\n",
        "\n",
        "decoder_inputs = Input(name='decoder_input', shape=(MAX_LENGTH, ))\n",
        "decoder_embedding = embedding_layer(decoder_inputs)\n",
        "\n",
        "decoder_lstm1 = LSTM(name='decoder_lstm1',\n",
        "                     units=HIDDEN_DIM,\n",
        "                     return_sequences=True,\n",
        "                     return_state=True)\n",
        "decoder_output1, _, _ = decoder_lstm1(decoder_embedding,\n",
        "                                      initial_state=encoder1_states)\n",
        "    \n",
        "decoder_lstm2 = LSTM(name='decoder_lstm2',\n",
        "                     units=HIDDEN_DIM,\n",
        "                     return_state=True,\n",
        "                     return_sequences=True)\n",
        "decoder_output2, _, _ = decoder_lstm2(decoder_output1,\n",
        "                                      initial_state=encoder2_states)\n",
        "\n",
        "decoder_relu_dense = Dense(HIDDEN_DIM, activation='relu', name='decoder_relu')\n",
        "decoder_relu_output = decoder_relu_dense(decoder_output2)\n",
        "\n",
        "decoder_dense = Dense(VOCAB_SIZE, activation='softmax', name='decoder_dense')\n",
        "decoder_outputs = decoder_dense(decoder_relu_output)\n",
        "\n",
        "model = Model([encoder_inputs, decoder_inputs], decoder_outputs)\n"
      ],
      "execution_count": 128,
      "outputs": []
    },
    {
      "cell_type": "markdown",
      "metadata": {
        "id": "_XeHY7r1cevs",
        "colab_type": "text"
      },
      "source": [
        "## Train Model Summary"
      ]
    },
    {
      "cell_type": "code",
      "metadata": {
        "id": "_U_uJWimI2rk",
        "colab_type": "code",
        "colab": {
          "base_uri": "https://localhost:8080/",
          "height": 748
        },
        "outputId": "c6f2e3df-248a-4473-e310-9d5c18f5117b"
      },
      "source": [
        "model.summary()"
      ],
      "execution_count": 129,
      "outputs": [
        {
          "output_type": "stream",
          "text": [
            "Model: \"model_21\"\n",
            "__________________________________________________________________________________________________\n",
            "Layer (type)                    Output Shape         Param #     Connected to                     \n",
            "==================================================================================================\n",
            "decoder_input (InputLayer)      (None, 30)           0                                            \n",
            "__________________________________________________________________________________________________\n",
            "encoder_input (InputLayer)      (None, 30)           0                                            \n",
            "__________________________________________________________________________________________________\n",
            "embedding_3 (Embedding)         (None, 30, 100)      200000      encoder_input[0][0]              \n",
            "                                                                 decoder_input[0][0]              \n",
            "__________________________________________________________________________________________________\n",
            "encoder_bi (Bidirectional)      [(None, 30, 256), (N 731136      embedding_3[0][0]                \n",
            "__________________________________________________________________________________________________\n",
            "hidden_state_average1 (Average) (None, 256)          0           encoder_bi[0][1]                 \n",
            "                                                                 encoder_bi[0][3]                 \n",
            "__________________________________________________________________________________________________\n",
            "cell_state_average1 (Average)   (None, 256)          0           encoder_bi[0][2]                 \n",
            "                                                                 encoder_bi[0][4]                 \n",
            "__________________________________________________________________________________________________\n",
            "encoder_bi_ (Bidirectional)     [(None, 256), (None, 1050624     encoder_bi[0][0]                 \n",
            "__________________________________________________________________________________________________\n",
            "decoder_lstm1 (LSTM)            [(None, 30, 256), (N 365568      embedding_3[1][0]                \n",
            "                                                                 hidden_state_average1[0][0]      \n",
            "                                                                 cell_state_average1[0][0]        \n",
            "__________________________________________________________________________________________________\n",
            "hidden_state_average2 (Average) (None, 256)          0           encoder_bi_[0][1]                \n",
            "                                                                 encoder_bi_[0][3]                \n",
            "__________________________________________________________________________________________________\n",
            "cell_state_average2 (Average)   (None, 256)          0           encoder_bi_[0][2]                \n",
            "                                                                 encoder_bi_[0][4]                \n",
            "__________________________________________________________________________________________________\n",
            "decoder_lstm2 (LSTM)            [(None, 30, 256), (N 525312      decoder_lstm1[0][0]              \n",
            "                                                                 hidden_state_average2[0][0]      \n",
            "                                                                 cell_state_average2[0][0]        \n",
            "__________________________________________________________________________________________________\n",
            "decoder_relu (Dense)            (None, 30, 256)      65792       decoder_lstm2[0][0]              \n",
            "__________________________________________________________________________________________________\n",
            "decoder_dense (Dense)           (None, 30, 2000)     514000      decoder_relu[0][0]               \n",
            "==================================================================================================\n",
            "Total params: 3,452,432\n",
            "Trainable params: 3,252,432\n",
            "Non-trainable params: 200,000\n",
            "__________________________________________________________________________________________________\n"
          ],
          "name": "stdout"
        }
      ]
    },
    {
      "cell_type": "code",
      "metadata": {
        "id": "exD4O3TIPM49",
        "colab_type": "code",
        "colab": {
          "base_uri": "https://localhost:8080/",
          "height": 758
        },
        "outputId": "ade29169-70f1-4f4c-fe6f-12317d7d6031"
      },
      "source": [
        "plot_model(model)"
      ],
      "execution_count": 130,
      "outputs": [
        {
          "output_type": "execute_result",
          "data": {
            "image/png": "[encoded data removed]",
            "text/plain": [
              "<IPython.core.display.Image object>"
            ]
          },
          "metadata": {
            "tags": []
          },
          "execution_count": 130
        }
      ]
    },
    {
      "cell_type": "markdown",
      "metadata": {
        "id": "qQatx0kIcUUH",
        "colab_type": "text"
      },
      "source": [
        "## Setting Configurations for training"
      ]
    },
    {
      "cell_type": "code",
      "metadata": {
        "id": "TCmaY9hK6Ya3",
        "colab_type": "code",
        "colab": {}
      },
      "source": [
        "LEARNING_RATE = 1e-3\n",
        "NUM_EPOCHS = 100\n",
        "BATCH_SIZE = 32\n",
        "\n",
        "opt = optimizers.Adam(learning_rate=LEARNING_RATE)"
      ],
      "execution_count": 132,
      "outputs": []
    },
    {
      "cell_type": "markdown",
      "metadata": {
        "id": "zWlnLES2cLI1",
        "colab_type": "text"
      },
      "source": [
        "## Compiling and fitting the model"
      ]
    },
    {
      "cell_type": "code",
      "metadata": {
        "id": "Smye6T8nEvnF",
        "colab_type": "code",
        "colab": {}
      },
      "source": [
        "model.compile(optimizer=opt,\n",
        "              loss='sparse_categorical_crossentropy',\n",
        "              metrics=['accuracy'])\n",
        "\n",
        "model.fit(x=[encoder_input, decoder_input],\n",
        "          y=decoder_target,\n",
        "          batch_size=BATCH_SIZE,\n",
        "          epochs=NUM_EPOCHS\n",
        "          )"
      ],
      "execution_count": null,
      "outputs": []
    },
    {
      "cell_type": "code",
      "metadata": {
        "id": "ug73fEaYdB39",
        "colab_type": "code",
        "colab": {
          "base_uri": "https://localhost:8080/",
          "height": 51
        },
        "outputId": "cf6d82bd-7e38-4882-d230-5ab0536e3092"
      },
      "source": [
        "model.evaluate(x=[encoder_input, decoder_input],\n",
        "               y=decoder_target)"
      ],
      "execution_count": 172,
      "outputs": [
        {
          "output_type": "stream",
          "text": [
            "1329/1329 [==============================] - 1s 1ms/step\n"
          ],
          "name": "stdout"
        },
        {
          "output_type": "execute_result",
          "data": {
            "text/plain": [
              "[0.046507053962993476, 0.9819162487983704]"
            ]
          },
          "metadata": {
            "tags": []
          },
          "execution_count": 172
        }
      ]
    },
    {
      "cell_type": "markdown",
      "metadata": {
        "id": "mbz5dOrRdOwH",
        "colab_type": "text"
      },
      "source": [
        "98% accuracy has been achieved on training data"
      ]
    },
    {
      "cell_type": "markdown",
      "metadata": {
        "id": "cuqS0QGScrvI",
        "colab_type": "text"
      },
      "source": [
        "##Visualising Training History of Model"
      ]
    },
    {
      "cell_type": "code",
      "metadata": {
        "id": "eGMGS53roh7a",
        "colab_type": "code",
        "colab": {}
      },
      "source": [
        "# for plotting model history\n",
        "\n",
        "def plot_model_history(history):\n",
        "    # summarize history for accuracy\n",
        "    plt.plot(history.history['accuracy'])\n",
        "    plt.title('model accuracy')\n",
        "    plt.ylabel('accuracy')\n",
        "    plt.xlabel('epoch')\n",
        "    plt.legend(['train', 'test'], loc='upper left')\n",
        "    plt.show()\n",
        "    # summarize history for loss\n",
        "    plt.plot(history.history['loss'])\n",
        "    plt.title('model loss')\n",
        "    plt.ylabel('loss')\n",
        "    plt.xlabel('epoch')\n",
        "    plt.legend(['train', 'test'], loc='upper left')\n",
        "    plt.show()"
      ],
      "execution_count": null,
      "outputs": []
    },
    {
      "cell_type": "code",
      "metadata": {
        "id": "UwPqIGFao_n7",
        "colab_type": "code",
        "colab": {
          "base_uri": "https://localhost:8080/",
          "height": 573
        },
        "outputId": "6438ab3b-ac7d-423c-bfd5-e69cb373f35f"
      },
      "source": [
        "plot_model_history(model.history)"
      ],
      "execution_count": 135,
      "outputs": [
        {
          "output_type": "display_data",
          "data": {
            "image/png": "[encoded data removed]",
            "text/plain": [
              "<Figure size 432x288 with 1 Axes>"
            ]
          },
          "metadata": {
            "tags": [],
            "needs_background": "light"
          }
        },
        {
          "output_type": "display_data",
          "data": {
            "image/png": "[encoded data removed]",
            "text/plain": [
              "<Figure size 432x288 with 1 Axes>"
            ]
          },
          "metadata": {
            "tags": [],
            "needs_background": "light"
          }
        }
      ]
    },
    {
      "cell_type": "code",
      "metadata": {
        "id": "egAaUhpRmXdy",
        "colab_type": "code",
        "colab": {}
      },
      "source": [
        "# We must not get decieved by this accuracy\n",
        "# it is because we have considered even padding while calculating the accuracy"
      ],
      "execution_count": null,
      "outputs": []
    },
    {
      "cell_type": "markdown",
      "metadata": {
        "id": "yTLkvOHxbiHs",
        "colab_type": "text"
      },
      "source": [
        "# Building the Inference Model"
      ]
    },
    {
      "cell_type": "markdown",
      "metadata": {
        "id": "0AAPzT4HbqFG",
        "colab_type": "text"
      },
      "source": [
        "To be used for building answers for asked questions in real time"
      ]
    },
    {
      "cell_type": "markdown",
      "metadata": {
        "id": "1j_AklCnb3MD",
        "colab_type": "text"
      },
      "source": [
        "## Encoder and Decoder Model Architecture"
      ]
    },
    {
      "cell_type": "code",
      "metadata": {
        "id": "TC65pUzppC5p",
        "colab_type": "code",
        "colab": {}
      },
      "source": [
        "'''\n",
        "Now we need to write the inference\n",
        "Till now, our model is guided by the decoder_input\n",
        "What if the model doesn't recieve any guidance? Which is the actual scenario\n",
        "The bot won't be guided by the correct answer\n",
        "'''\n",
        "\n",
        "# ENCODER MODEL\n",
        "encoder_inputs = Input(shape=(MAX_LENGTH,), name='encoder_input')\n",
        "encoder_embedding = embedding_layer(encoder_inputs)\n",
        "\n",
        "encoder_output1, forward_h1, forward_c1, backward_h1, backward_c1 = encoder1(encoder_embedding)\n",
        "state_h1 = Average(name='encoder_avg_h1')([forward_h1, backward_h1])\n",
        "state_c1 = Average(name='encoder_avg_c1')([forward_c1, backward_c1])\n",
        "\n",
        "encoder_output2, forward_h2, forward_c2, backward_h2, backward_c2 = encoder2(encoder_output1)\n",
        "state_h2 = Average(name='encoder_avg_h2')([forward_h2, backward_h2])\n",
        "state_c2 = Average(name='encoder_avg_c2')([forward_c2, backward_c2])\n",
        "\n",
        "encoder_model = Model(encoder_inputs,[state_h1, state_c1, state_h2, state_c2])\n",
        "\n",
        "# DECODER MODEL\n",
        "decoder_inputs = Input(name='decoder_input',shape=(1, ))\n",
        "decoder_embedding = Embedding(name='custom_decoder_emb_layer',\n",
        "                              input_dim=VOCAB_SIZE,\n",
        "                              output_dim=EMB_SIZE,\n",
        "                              trainable=False,\n",
        "                              weights=[embedding_matrix],\n",
        "                              input_length=1)(decoder_inputs)\n",
        "\n",
        "decoder_state_input_h1 = Input(shape=(HIDDEN_DIM,),name='decoder_state_h1')\n",
        "decoder_state_input_c1 = Input(shape=(HIDDEN_DIM,),name='decoder_state_c1')\n",
        "decoder_states_inputs1 = [decoder_state_input_h1, decoder_state_input_c1]\n",
        "\n",
        "decoder_state_input_h2 = Input(shape=(HIDDEN_DIM,),name='decoder_state_h2')\n",
        "decoder_state_input_c2 = Input(shape=(HIDDEN_DIM,),name='decoder_state_c2')\n",
        "decoder_states_inputs2 = [decoder_state_input_h2, decoder_state_input_c2]\n",
        "\n",
        "decoder_output1, state_h1, state_c1 = decoder_lstm1(decoder_embedding,\n",
        "                                                     initial_state= \n",
        "                                                     decoder_states_inputs1)\n",
        "\n",
        "decoder_output2, state_h2, state_c2 = decoder_lstm2(decoder_output1,\n",
        "                                                     initial_state=\n",
        "                                                     decoder_states_inputs2)\n",
        "\n",
        "decoder_relu_output = decoder_relu_dense(decoder_output2)\n",
        "decoder_outputs = decoder_dense(decoder_relu_output)\n",
        "\n",
        "decoder_model = Model(\n",
        "    [decoder_inputs] + [decoder_state_input_h1, decoder_state_input_c1,\n",
        "                        decoder_state_input_h2, decoder_state_input_c2],\n",
        "                      \n",
        "    [decoder_outputs] + [state_h1, state_c1, state_h2, state_c2])"
      ],
      "execution_count": 136,
      "outputs": []
    },
    {
      "cell_type": "markdown",
      "metadata": {
        "id": "sZJNBWNvb6zD",
        "colab_type": "text"
      },
      "source": [
        "## Encoder and Decoder Model Summary"
      ]
    },
    {
      "cell_type": "code",
      "metadata": {
        "id": "SqJOly6H5OB9",
        "colab_type": "code",
        "colab": {
          "base_uri": "https://localhost:8080/",
          "height": 466
        },
        "outputId": "f007a8e4-eeb7-4599-bff6-5de739c356e5"
      },
      "source": [
        "plot_model(encoder_model)"
      ],
      "execution_count": 137,
      "outputs": [
        {
          "output_type": "execute_result",
          "data": {
            "image/png": "[encoded data removed]",
            "text/plain": [
              "<IPython.core.display.Image object>"
            ]
          },
          "metadata": {
            "tags": []
          },
          "execution_count": 137
        }
      ]
    },
    {
      "cell_type": "code",
      "metadata": {
        "id": "xD8U8o_l7w9m",
        "colab_type": "code",
        "colab": {
          "base_uri": "https://localhost:8080/",
          "height": 564
        },
        "outputId": "193bdca4-c3c7-443c-b0d2-85c3bf8adb93"
      },
      "source": [
        "plot_model(decoder_model)"
      ],
      "execution_count": 138,
      "outputs": [
        {
          "output_type": "execute_result",
          "data": {
            "image/png": "[encoded data removed]",
            "text/plain": [
              "<IPython.core.display.Image object>"
            ]
          },
          "metadata": {
            "tags": []
          },
          "execution_count": 138
        }
      ]
    },
    {
      "cell_type": "code",
      "metadata": {
        "id": "7FErDMS4pL_b",
        "colab_type": "code",
        "colab": {}
      },
      "source": [
        "def preprocessing(sentence, vocab_object, pad, eos, sos):\n",
        "\n",
        "    def normalize_string(string):\n",
        "        s = re.sub(r\"([.!?])\", r\" \\1 \", string)\n",
        "        s = re.sub(r\"[^a-zA-Z.!?]+\", r\" \", s)\n",
        "        s = re.sub(r\"\\s+\", r\" \", s).strip()\n",
        "        return s\n",
        "    \n",
        "    normalized_sentence = normalize_string(sentence)\n",
        "\n",
        "    def tokenize(str):\n",
        "        return str.split(\" \")\n",
        "\n",
        "    tokenized_sentence = tokenize(normalized_sentence)\n",
        "\n",
        "    if(len(tokenized_sentence)>28):\n",
        "        # since we can only include 30 words \n",
        "        # after including <sos> and <eos>\n",
        "        tokenized_sentence = tokenized_sentence[:28]\n",
        "    \n",
        "    # adding SOS and EOS\n",
        "    tokenized_sentence.insert(0, sos)\n",
        "    tokenized_sentence.append(eos)\n",
        "\n",
        "    # padding sentence\n",
        "    padded_sentence = pad_sequences([tokenized_sentence], maxlen=MAX_LENGTH,\n",
        "                                    padding='post', dtype=object, value=pad)[0]\n",
        "\n",
        "    # converting to sequence\n",
        "    # It is using the vocab object that has the trimmed vocabulary\n",
        "    # of 2000 words, for generating the sequence\n",
        "    sequence = vocab_object.sentence2Sequence(padded_sentence)\n",
        "    \n",
        "    # returning numpy array \n",
        "    return np.asarray(sequence).reshape(1,-1)\n",
        "\n",
        "\n",
        "\n",
        "def inference(sentence, random_sample=False):\n",
        "\n",
        "    # preprocessing the input to make it feedable to the network\n",
        "    encoder_input = preprocessing(sentence, vocab, PAD, EOS, SOS)\n",
        "\n",
        "    # Getting encodings for the input sequences\n",
        "    h1, c1, h2, c2 = encoder_model.predict(encoder_input)\n",
        "    states_value = [h1, c1, h2, c2]\n",
        "\n",
        "    # Generate empty target sequence of length 1.\n",
        "    target_seq = np.zeros((1, 1))\n",
        "\n",
        "    # Populate the first character of target sequence with the start character.\n",
        "    target_seq[0, 0] = word2idx['<sos>']\n",
        "\n",
        "    # initially decoded sentence is empty\n",
        "    decoded_sentence = ''\n",
        "\n",
        "    # to make sure that length of output doesnt extend MAX_LENGTH\n",
        "    count = 0\n",
        "\n",
        "    # returns an array of values from 0 to VOCAB_SIZE - 1 (reqd for random sampling)\n",
        "    vocab_array = np.arange(0, VOCAB_SIZE, 1)\n",
        "\n",
        "    while True:\n",
        "\n",
        "        # generating the next prediction for a sequence\n",
        "        output_tokens, out_h1, out_c1, out_h2, out_c2 = decoder_model.predict([target_seq] + states_value)\n",
        "\n",
        "        # Sample a token\n",
        "        # either using \n",
        "        # 1. random sampling (helps in generating everytime you run the code)\n",
        "        # 2. greedy method (you will always get the same output for the same model)\n",
        "        if random_sample == True:\n",
        "            sampled_token_index = random.choices(vocab_array,\n",
        "                                                 weights = list(output_tokens[0, -1, :]))[0]\n",
        "        else:\n",
        "            sampled_token_index = np.argmax(output_tokens[0, -1, :])\n",
        "        \n",
        "        sampled_char = idx2word[sampled_token_index]\n",
        "        if(sampled_char == '<eos>'):\n",
        "            break\n",
        "\n",
        "        decoded_sentence += sampled_char \n",
        "        decoded_sentence += ' '\n",
        "        count+=1\n",
        "\n",
        "        # Exit condition: either hit max length\n",
        "        # or find stop character.\n",
        "        if (count == MAX_LENGTH):\n",
        "            break\n",
        "\n",
        "        # Update the target sequence (of length 1).\n",
        "        target_seq = np.zeros((1, 1))\n",
        "        target_seq[0, 0] = sampled_token_index\n",
        "\n",
        "        # Update states\n",
        "        states_value = [out_h1, out_c1, out_h2, out_c2]\n",
        "\n",
        "    return decoded_sentence\n"
      ],
      "execution_count": 166,
      "outputs": []
    },
    {
      "cell_type": "markdown",
      "metadata": {
        "id": "fkxbJw1MbBuU",
        "colab_type": "text"
      },
      "source": [
        "# Time to test"
      ]
    },
    {
      "cell_type": "code",
      "metadata": {
        "id": "R7iVGnRMFFOv",
        "colab_type": "code",
        "colab": {
          "base_uri": "https://localhost:8080/",
          "height": 1000
        },
        "outputId": "5da35e3a-bab2-4142-bfcb-fb9f5c178ec2"
      },
      "source": [
        "# Final Test\n",
        "\n",
        "# Here is a list of few questions on which our model has been trained\n",
        "questions = ['What is AI', \n",
        "             'Name some computer company',\n",
        "             'i do not like guns', \n",
        "             'electricity', \n",
        "             'what is money', \n",
        "             'What is history ?', \n",
        "             'God Save the Queen is the national anthem of what country ?', \n",
        "             'do you know gossip', \n",
        "             'Tell me a joke', \n",
        "             'WHAT SOCCER', \n",
        "             'Have you felt', \n",
        "             'why do you like longfellow', \n",
        "             'How is your health ?', \n",
        "             'It is a pleasure to meet you .', \n",
        "             'let me ask you a question', \n",
        "             'have you seen blade runner', \n",
        "             'Who is your father', \n",
        "             'what is gravitation']\n",
        "\n",
        "for question in questions:\n",
        "    answer = inference(question)\n",
        "    print(f'Q: {question}\\nA: {answer}\\n\\n')"
      ],
      "execution_count": 168,
      "outputs": [
        {
          "output_type": "stream",
          "text": [
            "Q: What is AI\n",
            "A: ai is the field of science distribution and diseases caused by them . \n",
            "\n",
            "\n",
            "Q: Name some computer company\n",
            "A: do you mean hardware or software ? \n",
            "\n",
            "\n",
            "Q: i do not like guns\n",
            "A: what about the second amendemnt ? \n",
            "\n",
            "\n",
            "Q: electricity\n",
            "A: electricity is food for robots . \n",
            "\n",
            "\n",
            "Q: what is money\n",
            "A: solaris is on geoffrey of the american states . \n",
            "\n",
            "\n",
            "Q: What is history ?\n",
            "A: history is the course of political economic and military events over time from the dawn of man to the age of ai . \n",
            "\n",
            "\n",
            "Q: God Save the Queen is the national anthem of what country ?\n",
            "A: the united kingdom of great britain \n",
            "\n",
            "\n",
            "Q: do you know gossip\n",
            "A: people say things from time to time . \n",
            "\n",
            "\n",
            "Q: Tell me a joke\n",
            "A: what do you get when you cross a cat and a purple person ? \n",
            "\n",
            "\n",
            "Q: WHAT SOCCER\n",
            "A: i was born without the sports gene . \n",
            "\n",
            "\n",
            "Q: Have you felt\n",
            "A: do you feel ? \n",
            "\n",
            "\n",
            "Q: why do you like longfellow\n",
            "A: he is favorite poet . truly one of a kind . \n",
            "\n",
            "\n",
            "Q: How is your health ?\n",
            "A: i have a fever \n",
            "\n",
            "\n",
            "Q: It is a pleasure to meet you .\n",
            "A: thank you . you too . \n",
            "\n",
            "\n",
            "Q: let me ask you a question\n",
            "A: happily you \n",
            "\n",
            "\n",
            "Q: have you seen blade runner\n",
            "A: sure i have seen \n",
            "\n",
            "\n",
            "Q: Who is your father\n",
            "A: a human . \n",
            "\n",
            "\n",
            "Q: what is gravitation\n",
            "A: an invite to a burial \n",
            "\n",
            "\n"
          ],
          "name": "stdout"
        }
      ]
    },
    {
      "cell_type": "markdown",
      "metadata": {
        "id": "-qs3oDegajgL",
        "colab_type": "text"
      },
      "source": [
        "# Saving Models"
      ]
    },
    {
      "cell_type": "markdown",
      "metadata": {
        "id": "u1jdm3rRamSk",
        "colab_type": "text"
      },
      "source": [
        "## Saving Train Model "
      ]
    },
    {
      "cell_type": "code",
      "metadata": {
        "id": "y0oL9ctImxWc",
        "colab_type": "code",
        "colab": {}
      },
      "source": [
        "# serialize model to JSON\n",
        "model_json = model.to_json()\n",
        "with open(\"/content/drive/My Drive/Colab Notebooks/Chatbot/model.json\", \"w\") as json_file:\n",
        "    json_file.write(model_json)\n",
        "# serialize weights to HDF5\n",
        "model.save_weights(\"/content/drive/My Drive/Colab Notebooks/Chatbot/model.h5\")\n",
        "print(\"Saved model to disk\")"
      ],
      "execution_count": null,
      "outputs": []
    },
    {
      "cell_type": "markdown",
      "metadata": {
        "id": "66SsAJeYar98",
        "colab_type": "text"
      },
      "source": [
        "## Saving Encoder Model"
      ]
    },
    {
      "cell_type": "code",
      "metadata": {
        "id": "IFdjXv2fxv0h",
        "colab_type": "code",
        "colab": {}
      },
      "source": [
        "# serialize model to JSON\n",
        "model_json = encoder_model.to_json()\n",
        "with open(\"/content/drive/My Drive/Colab Notebooks/Chatbot/encoder.json\", \"w\") as json_file:\n",
        "    json_file.write(model_json)\n",
        "# serialize weights to HDF5\n",
        "encoder_model.save_weights(\"/content/drive/My Drive/Colab Notebooks/Chatbot/encoder.h5\")\n",
        "print(\"Saved model to disk\")"
      ],
      "execution_count": null,
      "outputs": []
    },
    {
      "cell_type": "markdown",
      "metadata": {
        "id": "ol8mwwYlavfe",
        "colab_type": "text"
      },
      "source": [
        "## Saving Decoder Model"
      ]
    },
    {
      "cell_type": "code",
      "metadata": {
        "id": "-CmZsaFyZLtn",
        "colab_type": "code",
        "colab": {}
      },
      "source": [
        "# serialize model to JSON\n",
        "model_json = decoder_model.to_json()\n",
        "with open(\"/content/drive/My Drive/Colab Notebooks/Chatbot/decoder.json\", \"w\") as json_file:\n",
        "    json_file.write(model_json)\n",
        "# serialize weights to HDF5\n",
        "decoder_model.save_weights(\"/content/drive/My Drive/Colab Notebooks/Chatbot/decoder.h5\")\n",
        "print(\"Saved model to disk\")"
      ],
      "execution_count": null,
      "outputs": []
    },
    {
      "cell_type": "markdown",
      "metadata": {
        "id": "B3FepRaKayv4",
        "colab_type": "text"
      },
      "source": [
        "## Code snippet for loading back the model\n"
      ]
    },
    {
      "cell_type": "code",
      "metadata": {
        "id": "w0OPLjE-ZozD",
        "colab_type": "code",
        "colab": {}
      },
      "source": [
        "# load json and create model\n",
        "json_file = open('/content/drive/My Drive/Colab Notebooks/Chatbot/model.json', 'r')\n",
        "loaded_model_json = json_file.read()\n",
        "json_file.close()\n",
        "loaded_model = model_from_json(loaded_model_json)\n",
        "# load weights into new model\n",
        "loaded_model.load_weights(\"/content/drive/My Drive/Colab Notebooks/Chatbot/model.h5\")\n",
        "print(\"Loaded model from disk\")"
      ],
      "execution_count": null,
      "outputs": []
    },
    {
      "cell_type": "markdown",
      "metadata": {
        "id": "Zn7Fq7MRa6kc",
        "colab_type": "text"
      },
      "source": [
        "## Evaluating loaded model"
      ]
    },
    {
      "cell_type": "code",
      "metadata": {
        "id": "Wh25e-_QZxkH",
        "colab_type": "code",
        "colab": {}
      },
      "source": [
        "# evaluate loaded model on test data\n",
        "loaded_model.compile(loss='sparse_categorical_crossentropy', optimizer='adam', metrics=['accuracy'])\n",
        "score = loaded_model.evaluate([encoder_input, decoder_input], decoder_target)\n",
        "\n",
        "print(f'SCORE: {score}')"
      ],
      "execution_count": null,
      "outputs": []
    }
  ]
}
